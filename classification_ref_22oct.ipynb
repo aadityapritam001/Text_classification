{
 "cells": [
  {
   "cell_type": "code",
   "execution_count": 9,
   "metadata": {},
   "outputs": [],
   "source": [
    "import pandas as pd\n",
    "import numpy as np"
   ]
  },
  {
   "cell_type": "code",
   "execution_count": 7,
   "metadata": {},
   "outputs": [],
   "source": [
    "# with open('Reference_class_dataset.tsv','w') as fp:\n",
    "#     fp.write('')"
   ]
  },
  {
   "cell_type": "code",
   "execution_count": 32,
   "metadata": {},
   "outputs": [
    {
     "name": "stdout",
     "output_type": "stream",
     "text": [
      "['TRADITIONAL REF' 'NON TRADITIONAL REF']\n"
     ]
    },
    {
     "data": {
      "text/html": [
       "<div>\n",
       "<style scoped>\n",
       "    .dataframe tbody tr th:only-of-type {\n",
       "        vertical-align: middle;\n",
       "    }\n",
       "\n",
       "    .dataframe tbody tr th {\n",
       "        vertical-align: top;\n",
       "    }\n",
       "\n",
       "    .dataframe thead th {\n",
       "        text-align: right;\n",
       "    }\n",
       "</style>\n",
       "<table border=\"1\" class=\"dataframe\">\n",
       "  <thead>\n",
       "    <tr style=\"text-align: right;\">\n",
       "      <th></th>\n",
       "      <th>FileName</th>\n",
       "      <th>Reference</th>\n",
       "      <th>Types</th>\n",
       "    </tr>\n",
       "  </thead>\n",
       "  <tbody>\n",
       "    <tr>\n",
       "      <th>count</th>\n",
       "      <td>573</td>\n",
       "      <td>573</td>\n",
       "      <td>573</td>\n",
       "    </tr>\n",
       "    <tr>\n",
       "      <th>unique</th>\n",
       "      <td>114</td>\n",
       "      <td>573</td>\n",
       "      <td>2</td>\n",
       "    </tr>\n",
       "    <tr>\n",
       "      <th>top</th>\n",
       "      <td>NU8SU001C</td>\n",
       "      <td>Internet: \"Huzurevindeki Yashlara Virus Bulast...</td>\n",
       "      <td>TRADITIONAL REF</td>\n",
       "    </tr>\n",
       "    <tr>\n",
       "      <th>freq</th>\n",
       "      <td>100</td>\n",
       "      <td>1</td>\n",
       "      <td>288</td>\n",
       "    </tr>\n",
       "  </tbody>\n",
       "</table>\n",
       "</div>"
      ],
      "text/plain": [
       "         FileName                                          Reference  \\\n",
       "count         573                                                573   \n",
       "unique        114                                                573   \n",
       "top     NU8SU001C  Internet: \"Huzurevindeki Yashlara Virus Bulast...   \n",
       "freq          100                                                  1   \n",
       "\n",
       "                  Types  \n",
       "count               573  \n",
       "unique                2  \n",
       "top     TRADITIONAL REF  \n",
       "freq                288  "
      ]
     },
     "execution_count": 32,
     "metadata": {},
     "output_type": "execute_result"
    }
   ],
   "source": [
    "df=pd.read_csv('Reference_class_dataset.csv')\n",
    "print(df['Types'].unique())\n",
    "df.describe()"
   ]
  },
  {
   "cell_type": "code",
   "execution_count": 33,
   "metadata": {},
   "outputs": [
    {
     "data": {
      "text/plain": [
       "TRADITIONAL REF        288\n",
       "NON TRADITIONAL REF    285\n",
       "Name: Types, dtype: int64"
      ]
     },
     "execution_count": 33,
     "metadata": {},
     "output_type": "execute_result"
    }
   ],
   "source": [
    "df['Types'].value_counts()"
   ]
  },
  {
   "cell_type": "code",
   "execution_count": 34,
   "metadata": {},
   "outputs": [
    {
     "data": {
      "text/html": [
       "<div>\n",
       "<style scoped>\n",
       "    .dataframe tbody tr th:only-of-type {\n",
       "        vertical-align: middle;\n",
       "    }\n",
       "\n",
       "    .dataframe tbody tr th {\n",
       "        vertical-align: top;\n",
       "    }\n",
       "\n",
       "    .dataframe thead th {\n",
       "        text-align: right;\n",
       "    }\n",
       "</style>\n",
       "<table border=\"1\" class=\"dataframe\">\n",
       "  <thead>\n",
       "    <tr style=\"text-align: right;\">\n",
       "      <th></th>\n",
       "      <th>FileName</th>\n",
       "      <th>Reference</th>\n",
       "      <th>Types</th>\n",
       "    </tr>\n",
       "  </thead>\n",
       "  <tbody>\n",
       "    <tr>\n",
       "      <th>0</th>\n",
       "      <td>NE9KL000C</td>\n",
       "      <td>Burmeister, L.C., Convective Heat Transfer, Ne...</td>\n",
       "      <td>TRADITIONAL REF</td>\n",
       "    </tr>\n",
       "    <tr>\n",
       "      <th>1</th>\n",
       "      <td>NE9KL000C</td>\n",
       "      <td>Heislbetz, B., Madlener, K., and Ciezki, H., B...</td>\n",
       "      <td>TRADITIONAL REF</td>\n",
       "    </tr>\n",
       "    <tr>\n",
       "      <th>2</th>\n",
       "      <td>NE9KL000C</td>\n",
       "      <td>Hinze, J.O., Turbulence, New York, NY: McGraw-...</td>\n",
       "      <td>TRADITIONAL REF</td>\n",
       "    </tr>\n",
       "    <tr>\n",
       "      <th>3</th>\n",
       "      <td>NE9KL000C</td>\n",
       "      <td>Jyoti, B.V.S. and Baek, S.W., Rheological Char...</td>\n",
       "      <td>TRADITIONAL REF</td>\n",
       "    </tr>\n",
       "    <tr>\n",
       "      <th>4</th>\n",
       "      <td>NE9KL000C</td>\n",
       "      <td>Modekurti, A., Numerical Investigation of Flui...</td>\n",
       "      <td>TRADITIONAL REF</td>\n",
       "    </tr>\n",
       "    <tr>\n",
       "      <th>...</th>\n",
       "      <td>...</td>\n",
       "      <td>...</td>\n",
       "      <td>...</td>\n",
       "    </tr>\n",
       "    <tr>\n",
       "      <th>568</th>\n",
       "      <td>NV0ZJ000C</td>\n",
       "      <td>Simmonds EJ MacLennan DN Fisheries Acoustics: ...</td>\n",
       "      <td>TRADITIONAL REF</td>\n",
       "    </tr>\n",
       "    <tr>\n",
       "      <th>569</th>\n",
       "      <td>NV0ZJ000C</td>\n",
       "      <td>R Core Team.: R: A Language and Environment fo...</td>\n",
       "      <td>TRADITIONAL REF</td>\n",
       "    </tr>\n",
       "    <tr>\n",
       "      <th>570</th>\n",
       "      <td>NV0ZJ000C</td>\n",
       "      <td>Frossard, V., Barbier, C., Goulon, C., Guillar...</td>\n",
       "      <td>TRADITIONAL REF</td>\n",
       "    </tr>\n",
       "    <tr>\n",
       "      <th>571</th>\n",
       "      <td>NV0ZJ000C</td>\n",
       "      <td>Guintard C Salaud C Richaudeau Y Tavernier C D...</td>\n",
       "      <td>TRADITIONAL REF</td>\n",
       "    </tr>\n",
       "    <tr>\n",
       "      <th>572</th>\n",
       "      <td>NV0ZJ000C</td>\n",
       "      <td>Nakken O Olsen K Target Strength Measurements ...</td>\n",
       "      <td>TRADITIONAL REF</td>\n",
       "    </tr>\n",
       "  </tbody>\n",
       "</table>\n",
       "<p>573 rows × 3 columns</p>\n",
       "</div>"
      ],
      "text/plain": [
       "        FileName                                          Reference  \\\n",
       "0      NE9KL000C  Burmeister, L.C., Convective Heat Transfer, Ne...   \n",
       "1    NE9KL000C    Heislbetz, B., Madlener, K., and Ciezki, H., B...   \n",
       "2    NE9KL000C    Hinze, J.O., Turbulence, New York, NY: McGraw-...   \n",
       "3    NE9KL000C    Jyoti, B.V.S. and Baek, S.W., Rheological Char...   \n",
       "4    NE9KL000C    Modekurti, A., Numerical Investigation of Flui...   \n",
       "..           ...                                                ...   \n",
       "568    NV0ZJ000C  Simmonds EJ MacLennan DN Fisheries Acoustics: ...   \n",
       "569    NV0ZJ000C  R Core Team.: R: A Language and Environment fo...   \n",
       "570    NV0ZJ000C  Frossard, V., Barbier, C., Goulon, C., Guillar...   \n",
       "571    NV0ZJ000C  Guintard C Salaud C Richaudeau Y Tavernier C D...   \n",
       "572    NV0ZJ000C  Nakken O Olsen K Target Strength Measurements ...   \n",
       "\n",
       "               Types  \n",
       "0    TRADITIONAL REF  \n",
       "1    TRADITIONAL REF  \n",
       "2    TRADITIONAL REF  \n",
       "3    TRADITIONAL REF  \n",
       "4    TRADITIONAL REF  \n",
       "..               ...  \n",
       "568  TRADITIONAL REF  \n",
       "569  TRADITIONAL REF  \n",
       "570  TRADITIONAL REF  \n",
       "571  TRADITIONAL REF  \n",
       "572  TRADITIONAL REF  \n",
       "\n",
       "[573 rows x 3 columns]"
      ]
     },
     "execution_count": 34,
     "metadata": {},
     "output_type": "execute_result"
    }
   ],
   "source": [
    "df"
   ]
  },
  {
   "cell_type": "code",
   "execution_count": 35,
   "metadata": {},
   "outputs": [
    {
     "data": {
      "text/plain": [
       "Index(['FileName', 'Reference', 'Types'], dtype='object')"
      ]
     },
     "execution_count": 35,
     "metadata": {},
     "output_type": "execute_result"
    }
   ],
   "source": [
    "df.columns"
   ]
  },
  {
   "cell_type": "code",
   "execution_count": 36,
   "metadata": {},
   "outputs": [
    {
     "data": {
      "text/plain": [
       "0      Burmeister, L.C., Convective Heat Transfer, Ne...\n",
       "1      Heislbetz, B., Madlener, K., and Ciezki, H., B...\n",
       "2      Hinze, J.O., Turbulence, New York, NY: McGraw-...\n",
       "3      Jyoti, B.V.S. and Baek, S.W., Rheological Char...\n",
       "4      Modekurti, A., Numerical Investigation of Flui...\n",
       "                             ...                        \n",
       "568    Simmonds EJ MacLennan DN Fisheries Acoustics: ...\n",
       "569    R Core Team.: R: A Language and Environment fo...\n",
       "570    Frossard, V., Barbier, C., Goulon, C., Guillar...\n",
       "571    Guintard C Salaud C Richaudeau Y Tavernier C D...\n",
       "572    Nakken O Olsen K Target Strength Measurements ...\n",
       "Name: Reference, Length: 573, dtype: object"
      ]
     },
     "execution_count": 36,
     "metadata": {},
     "output_type": "execute_result"
    }
   ],
   "source": [
    "df['Reference']"
   ]
  },
  {
   "cell_type": "code",
   "execution_count": 39,
   "metadata": {},
   "outputs": [],
   "source": [
    "for i in df['Reference']:\n",
    "    if(i[0]==' '):\n",
    "        print(i)"
   ]
  },
  {
   "cell_type": "code",
   "execution_count": 40,
   "metadata": {},
   "outputs": [
    {
     "data": {
      "text/html": [
       "<div>\n",
       "<style scoped>\n",
       "    .dataframe tbody tr th:only-of-type {\n",
       "        vertical-align: middle;\n",
       "    }\n",
       "\n",
       "    .dataframe tbody tr th {\n",
       "        vertical-align: top;\n",
       "    }\n",
       "\n",
       "    .dataframe thead th {\n",
       "        text-align: right;\n",
       "    }\n",
       "</style>\n",
       "<table border=\"1\" class=\"dataframe\">\n",
       "  <thead>\n",
       "    <tr style=\"text-align: right;\">\n",
       "      <th></th>\n",
       "      <th>FileName</th>\n",
       "      <th>Reference</th>\n",
       "      <th>Types</th>\n",
       "    </tr>\n",
       "  </thead>\n",
       "  <tbody>\n",
       "    <tr>\n",
       "      <th>0</th>\n",
       "      <td>NE9KL000C</td>\n",
       "      <td>Burmeister, L.C., Convective Heat Transfer, Ne...</td>\n",
       "      <td>TRADITIONAL REF</td>\n",
       "    </tr>\n",
       "    <tr>\n",
       "      <th>1</th>\n",
       "      <td>NE9KL000C</td>\n",
       "      <td>Heislbetz, B., Madlener, K., and Ciezki, H., B...</td>\n",
       "      <td>TRADITIONAL REF</td>\n",
       "    </tr>\n",
       "    <tr>\n",
       "      <th>2</th>\n",
       "      <td>NE9KL000C</td>\n",
       "      <td>Hinze, J.O., Turbulence, New York, NY: McGraw-...</td>\n",
       "      <td>TRADITIONAL REF</td>\n",
       "    </tr>\n",
       "    <tr>\n",
       "      <th>3</th>\n",
       "      <td>NE9KL000C</td>\n",
       "      <td>Jyoti, B.V.S. and Baek, S.W., Rheological Char...</td>\n",
       "      <td>TRADITIONAL REF</td>\n",
       "    </tr>\n",
       "    <tr>\n",
       "      <th>4</th>\n",
       "      <td>NE9KL000C</td>\n",
       "      <td>Modekurti, A., Numerical Investigation of Flui...</td>\n",
       "      <td>TRADITIONAL REF</td>\n",
       "    </tr>\n",
       "    <tr>\n",
       "      <th>...</th>\n",
       "      <td>...</td>\n",
       "      <td>...</td>\n",
       "      <td>...</td>\n",
       "    </tr>\n",
       "    <tr>\n",
       "      <th>568</th>\n",
       "      <td>NV0ZJ000C</td>\n",
       "      <td>Simmonds EJ MacLennan DN Fisheries Acoustics: ...</td>\n",
       "      <td>TRADITIONAL REF</td>\n",
       "    </tr>\n",
       "    <tr>\n",
       "      <th>569</th>\n",
       "      <td>NV0ZJ000C</td>\n",
       "      <td>R Core Team.: R: A Language and Environment fo...</td>\n",
       "      <td>TRADITIONAL REF</td>\n",
       "    </tr>\n",
       "    <tr>\n",
       "      <th>570</th>\n",
       "      <td>NV0ZJ000C</td>\n",
       "      <td>Frossard, V., Barbier, C., Goulon, C., Guillar...</td>\n",
       "      <td>TRADITIONAL REF</td>\n",
       "    </tr>\n",
       "    <tr>\n",
       "      <th>571</th>\n",
       "      <td>NV0ZJ000C</td>\n",
       "      <td>Guintard C Salaud C Richaudeau Y Tavernier C D...</td>\n",
       "      <td>TRADITIONAL REF</td>\n",
       "    </tr>\n",
       "    <tr>\n",
       "      <th>572</th>\n",
       "      <td>NV0ZJ000C</td>\n",
       "      <td>Nakken O Olsen K Target Strength Measurements ...</td>\n",
       "      <td>TRADITIONAL REF</td>\n",
       "    </tr>\n",
       "  </tbody>\n",
       "</table>\n",
       "<p>573 rows × 3 columns</p>\n",
       "</div>"
      ],
      "text/plain": [
       "        FileName                                          Reference  \\\n",
       "0      NE9KL000C  Burmeister, L.C., Convective Heat Transfer, Ne...   \n",
       "1    NE9KL000C    Heislbetz, B., Madlener, K., and Ciezki, H., B...   \n",
       "2    NE9KL000C    Hinze, J.O., Turbulence, New York, NY: McGraw-...   \n",
       "3    NE9KL000C    Jyoti, B.V.S. and Baek, S.W., Rheological Char...   \n",
       "4    NE9KL000C    Modekurti, A., Numerical Investigation of Flui...   \n",
       "..           ...                                                ...   \n",
       "568    NV0ZJ000C  Simmonds EJ MacLennan DN Fisheries Acoustics: ...   \n",
       "569    NV0ZJ000C  R Core Team.: R: A Language and Environment fo...   \n",
       "570    NV0ZJ000C  Frossard, V., Barbier, C., Goulon, C., Guillar...   \n",
       "571    NV0ZJ000C  Guintard C Salaud C Richaudeau Y Tavernier C D...   \n",
       "572    NV0ZJ000C  Nakken O Olsen K Target Strength Measurements ...   \n",
       "\n",
       "               Types  \n",
       "0    TRADITIONAL REF  \n",
       "1    TRADITIONAL REF  \n",
       "2    TRADITIONAL REF  \n",
       "3    TRADITIONAL REF  \n",
       "4    TRADITIONAL REF  \n",
       "..               ...  \n",
       "568  TRADITIONAL REF  \n",
       "569  TRADITIONAL REF  \n",
       "570  TRADITIONAL REF  \n",
       "571  TRADITIONAL REF  \n",
       "572  TRADITIONAL REF  \n",
       "\n",
       "[573 rows x 3 columns]"
      ]
     },
     "execution_count": 40,
     "metadata": {},
     "output_type": "execute_result"
    }
   ],
   "source": [
    "df"
   ]
  },
  {
   "cell_type": "code",
   "execution_count": 41,
   "metadata": {},
   "outputs": [
    {
     "name": "stdout",
     "output_type": "stream",
     "text": [
      "0\n"
     ]
    }
   ],
   "source": [
    "c=0\n",
    "for i in df['Reference']:\n",
    "    if(i[0]==' '):\n",
    "        print(i)\n",
    "        c+=1\n",
    "print(c)"
   ]
  },
  {
   "cell_type": "markdown",
   "metadata": {},
   "source": [
    "# _________________CLASSIFICATION SPACY _________________"
   ]
  },
  {
   "cell_type": "code",
   "execution_count": 47,
   "metadata": {},
   "outputs": [
    {
     "name": "stderr",
     "output_type": "stream",
     "text": [
      "[nltk_data] Downloading package stopwords to C:\\Users\\Aaditya\n",
      "[nltk_data]     Raj\\AppData\\Roaming\\nltk_data...\n",
      "[nltk_data]   Unzipping corpora\\stopwords.zip.\n"
     ]
    },
    {
     "data": {
      "text/plain": [
       "True"
      ]
     },
     "execution_count": 47,
     "metadata": {},
     "output_type": "execute_result"
    }
   ],
   "source": [
    "import nltk\n",
    "nltk.download('stopwords')"
   ]
  },
  {
   "cell_type": "code",
   "execution_count": 48,
   "metadata": {},
   "outputs": [],
   "source": [
    "import pandas as pd\n",
    "import numpy as np\n",
    "import seaborn as sns\n",
    "import matplotlib.pyplot as plt\n",
    "import string\n",
    "import re\n",
    "from collections import Counter\n",
    "from nltk.corpus import stopwords\n",
    "stopwords = stopwords.words('english')"
   ]
  },
  {
   "cell_type": "code",
   "execution_count": 43,
   "metadata": {},
   "outputs": [
    {
     "data": {
      "text/html": [
       "<div>\n",
       "<style scoped>\n",
       "    .dataframe tbody tr th:only-of-type {\n",
       "        vertical-align: middle;\n",
       "    }\n",
       "\n",
       "    .dataframe tbody tr th {\n",
       "        vertical-align: top;\n",
       "    }\n",
       "\n",
       "    .dataframe thead th {\n",
       "        text-align: right;\n",
       "    }\n",
       "</style>\n",
       "<table border=\"1\" class=\"dataframe\">\n",
       "  <thead>\n",
       "    <tr style=\"text-align: right;\">\n",
       "      <th></th>\n",
       "      <th>FileName</th>\n",
       "      <th>Reference</th>\n",
       "      <th>Types</th>\n",
       "    </tr>\n",
       "  </thead>\n",
       "  <tbody>\n",
       "    <tr>\n",
       "      <th>0</th>\n",
       "      <td>NE9KL000C</td>\n",
       "      <td>Burmeister, L.C., Convective Heat Transfer, Ne...</td>\n",
       "      <td>TRADITIONAL REF</td>\n",
       "    </tr>\n",
       "    <tr>\n",
       "      <th>1</th>\n",
       "      <td>NE9KL000C</td>\n",
       "      <td>Heislbetz, B., Madlener, K., and Ciezki, H., B...</td>\n",
       "      <td>TRADITIONAL REF</td>\n",
       "    </tr>\n",
       "    <tr>\n",
       "      <th>2</th>\n",
       "      <td>NE9KL000C</td>\n",
       "      <td>Hinze, J.O., Turbulence, New York, NY: McGraw-...</td>\n",
       "      <td>TRADITIONAL REF</td>\n",
       "    </tr>\n",
       "    <tr>\n",
       "      <th>3</th>\n",
       "      <td>NE9KL000C</td>\n",
       "      <td>Jyoti, B.V.S. and Baek, S.W., Rheological Char...</td>\n",
       "      <td>TRADITIONAL REF</td>\n",
       "    </tr>\n",
       "    <tr>\n",
       "      <th>4</th>\n",
       "      <td>NE9KL000C</td>\n",
       "      <td>Modekurti, A., Numerical Investigation of Flui...</td>\n",
       "      <td>TRADITIONAL REF</td>\n",
       "    </tr>\n",
       "  </tbody>\n",
       "</table>\n",
       "</div>"
      ],
      "text/plain": [
       "      FileName                                          Reference  \\\n",
       "0    NE9KL000C  Burmeister, L.C., Convective Heat Transfer, Ne...   \n",
       "1  NE9KL000C    Heislbetz, B., Madlener, K., and Ciezki, H., B...   \n",
       "2  NE9KL000C    Hinze, J.O., Turbulence, New York, NY: McGraw-...   \n",
       "3  NE9KL000C    Jyoti, B.V.S. and Baek, S.W., Rheological Char...   \n",
       "4  NE9KL000C    Modekurti, A., Numerical Investigation of Flui...   \n",
       "\n",
       "             Types  \n",
       "0  TRADITIONAL REF  \n",
       "1  TRADITIONAL REF  \n",
       "2  TRADITIONAL REF  \n",
       "3  TRADITIONAL REF  \n",
       "4  TRADITIONAL REF  "
      ]
     },
     "execution_count": 43,
     "metadata": {},
     "output_type": "execute_result"
    }
   ],
   "source": [
    "df = pd.read_csv('Reference_class_dataset.csv')\n",
    "df.head()"
   ]
  },
  {
   "cell_type": "code",
   "execution_count": 55,
   "metadata": {},
   "outputs": [],
   "source": [
    "data=df[['Reference','Types']]"
   ]
  },
  {
   "cell_type": "code",
   "execution_count": 57,
   "metadata": {},
   "outputs": [
    {
     "data": {
      "text/plain": [
       "Reference    0\n",
       "Types        0\n",
       "dtype: int64"
      ]
     },
     "execution_count": 57,
     "metadata": {},
     "output_type": "execute_result"
    }
   ],
   "source": [
    "data\n",
    "data.isnull().sum()"
   ]
  },
  {
   "cell_type": "code",
   "execution_count": 59,
   "metadata": {},
   "outputs": [
    {
     "name": "stdout",
     "output_type": "stream",
     "text": [
      "Reference sample: Bugzilla (2019) (Accessed October 2019) https://www.bugzilla.org/ \n",
      "Type of this Reference: NON TRADITIONAL REF\n",
      "Training Data Shape: (401, 2)\n",
      "Testing Data Shape: (172, 2)\n"
     ]
    }
   ],
   "source": [
    "from sklearn.model_selection import train_test_split\n",
    "train, test = train_test_split(data, test_size=0.30, random_state=42)\n",
    "print('Reference sample:', train['Reference'].iloc[0])\n",
    "print('Type of this Reference:', train['Types'].iloc[0])\n",
    "print('Training Data Shape:', train.shape)\n",
    "print('Testing Data Shape:', test.shape)"
   ]
  },
  {
   "cell_type": "code",
   "execution_count": 67,
   "metadata": {},
   "outputs": [
    {
     "data": {
      "image/png": "[encoded data removed]",
      "text/plain": [
       "<Figure size 576x288 with 1 Axes>"
      ]
     },
     "metadata": {
      "needs_background": "light"
     },
     "output_type": "display_data"
    }
   ],
   "source": [
    "fig = plt.figure(figsize=(8,4))\n",
    "sns.barplot(x = train['Types'].unique(), y=train['Types'].value_counts())\n",
    "plt.show()"
   ]
  },
  {
   "cell_type": "code",
   "execution_count": 71,
   "metadata": {},
   "outputs": [
    {
     "data": {
      "image/png": "[encoded data removed]",
      "text/plain": [
       "<Figure size 1296x432 with 1 Axes>"
      ]
     },
     "metadata": {
      "needs_background": "light"
     },
     "output_type": "display_data"
    }
   ],
   "source": [
    "import spacy\n",
    "nlp = spacy.load('en_core_web_sm')\n",
    "punctuations = string.punctuation\n",
    "def cleanup_text(docs, logging=False):\n",
    "    texts = []\n",
    "    counter = 1\n",
    "    for doc in docs:\n",
    "        if counter % 1000 == 0 and logging:\n",
    "            print(\"Processed %d out of %d documents.\" % (counter, len(docs)))\n",
    "        counter += 1\n",
    "        doc = nlp(doc, disable=['parser', 'ner'])\n",
    "        tokens = [tok.lemma_.lower().strip() for tok in doc if tok.lemma_ != '-PRON-']\n",
    "        tokens = [tok for tok in tokens if tok not in stopwords and tok not in punctuations]\n",
    "        tokens = ' '.join(tokens)\n",
    "        texts.append(tokens)\n",
    "    return pd.Series(texts)\n",
    "INFO_text = [text for text in train[train['Types'] == 'TRADITIONAL REF']['Reference']]\n",
    "IS_text = [text for text in train[train['Types'] == 'NON TRADITIONAL REF']['Reference']]\n",
    "INFO_clean = cleanup_text(INFO_text)\n",
    "INFO_clean = ' '.join(INFO_clean).split()\n",
    "IS_clean = cleanup_text(IS_text)\n",
    "IS_clean = ' '.join(IS_clean).split()\n",
    "INFO_counts = Counter(INFO_clean)\n",
    "IS_counts = Counter(IS_clean)\n",
    "INFO_common_words = [word[0] for word in INFO_counts.most_common(50)]\n",
    "INFO_common_counts = [word[1] for word in INFO_counts.most_common(50)]\n",
    "fig = plt.figure(figsize=(18,6))\n",
    "sns.barplot(x=INFO_common_words, y=INFO_common_counts)\n",
    "plt.title('Most Common Words used in the Reference for Types TRADITIONAL REF')\n",
    "plt.show()"
   ]
  },
  {
   "cell_type": "code",
   "execution_count": 72,
   "metadata": {},
   "outputs": [
    {
     "data": {
      "image/png": "[encoded data removed]",
      "text/plain": [
       "<Figure size 1296x432 with 1 Axes>"
      ]
     },
     "metadata": {
      "needs_background": "light"
     },
     "output_type": "display_data"
    }
   ],
   "source": [
    "IS_common_words = [word[0] for word in IS_counts.most_common(20)]\n",
    "IS_common_counts = [word[1] for word in IS_counts.most_common(20)]\n",
    "fig = plt.figure(figsize=(18,6))\n",
    "sns.barplot(x=IS_common_words, y=IS_common_counts)\n",
    "plt.title('Most Common Words used in the Reference for NON TRADITIONAL REF')\n",
    "plt.show()"
   ]
  },
  {
   "cell_type": "code",
   "execution_count": 76,
   "metadata": {},
   "outputs": [],
   "source": [
    "from sklearn.feature_extraction.text import CountVectorizer\n",
    "from sklearn.base import TransformerMixin\n",
    "from sklearn.pipeline import Pipeline\n",
    "from sklearn.svm import LinearSVC\n",
    "from sklearn.feature_extraction.stop_words import ENGLISH_STOP_WORDS\n",
    "from sklearn.metrics import accuracy_score\n",
    "from nltk.corpus import stopwords\n",
    "import string\n",
    "import re\n",
    "import spacy\n",
    "spacy.load('en_core_web_sm')\n",
    "from spacy.lang.en import English\n",
    "parser = English()"
   ]
  },
  {
   "cell_type": "code",
   "execution_count": 77,
   "metadata": {},
   "outputs": [],
   "source": [
    "STOPLIST = set(stopwords.words('english') + list(ENGLISH_STOP_WORDS))\n",
    "SYMBOLS = \" \".join(string.punctuation).split(\" \") + [\"-\", \"...\", \"”\", \"”\"]\n",
    "class CleanTextTransformer(TransformerMixin):\n",
    "   def transform(self, X, **transform_params):\n",
    "        return [cleanText(text) for text in X]\n",
    "   def fit(self, X, y=None, **fit_params):\n",
    "        return self\n",
    "def get_params(self, deep=True):\n",
    "        return {}\n",
    "    \n",
    "def cleanText(text):\n",
    "    text = text.strip().replace(\"\\n\", \" \").replace(\"\\r\", \" \")\n",
    "    text = text.lower()\n",
    "    return text\n",
    "def tokenizeText(sample):\n",
    "    tokens = parser(sample)\n",
    "    lemmas = []\n",
    "    for tok in tokens:\n",
    "        lemmas.append(tok.lemma_.lower().strip() if tok.lemma_ != \"-PRON-\" else tok.lower_)\n",
    "    tokens = lemmas\n",
    "    tokens = [tok for tok in tokens if tok not in STOPLIST]\n",
    "    tokens = [tok for tok in tokens if tok not in SYMBOLS]\n",
    "    return tokens"
   ]
  },
  {
   "cell_type": "code",
   "execution_count": 115,
   "metadata": {},
   "outputs": [
    {
     "name": "stdout",
     "output_type": "stream",
     "text": [
      "accuracy: 0.8313953488372093\n",
      "Top 10 features used to predict: \n",
      "Class 1 best: \n",
      "(-0.24990500495417708, '2020')\n",
      "(-0.22948487173858131, 'archivo')\n",
      "(-0.21147383469259817, 'harjunmaa')\n",
      "(-0.21147383469259817, 'kun')\n",
      "(-0.21147383469259817, 'pe')\n",
      "(-0.21147383469259817, 'r')\n",
      "(-0.21147383469259817, 'savage')\n",
      "(-0.20961131180750542, 'https://www.netgear.com/')\n",
      "(-0.2096111860953981, 'https://www.netguardstore.com/')\n",
      "(-0.20961118509099178, 'https://inilabs.com/products/pushbot/.')\n",
      "Class 2 best: \n",
      "(0.6043005715274684, 'j.')\n",
      "(0.5255948874715173, 'mexico')\n",
      "(0.3210836313883146, 'l.')\n",
      "(0.3201361621711989, 'water')\n",
      "(0.31358623217529297, 's.')\n",
      "(0.2939744126860353, 'a.')\n",
      "(0.2888696642281095, 'p.')\n",
      "(0.276492964180344, 'cicadellidae')\n",
      "(0.27446715120307136, '')\n",
      "(0.26867874366839967, 'giarno')\n"
     ]
    }
   ],
   "source": [
    "def printNMostInformative(vectorizer, clf, N):\n",
    "    feature_names = vectorizer.get_feature_names()\n",
    "    coefs_with_fns = sorted(zip(clf.coef_[0], feature_names))\n",
    "    topClass1 = coefs_with_fns[:N]\n",
    "    topClass2 = coefs_with_fns[:-(N + 1):-1]\n",
    "    print(\"Class 1 best: \")\n",
    "    for feat in topClass1:\n",
    "        print(feat)\n",
    "    print(\"Class 2 best: \")\n",
    "    for feat in topClass2:\n",
    "        print(feat)\n",
    "vectorizer = CountVectorizer(tokenizer=tokenizeText, ngram_range=(1,1))\n",
    "clf = LinearSVC()\n",
    "\n",
    "pipe = Pipeline([('cleanText', CleanTextTransformer()), ('vectorizer', vectorizer), ('clf', clf)])\n",
    "# data\n",
    "train1 = train['Reference'].tolist()\n",
    "labelsTrain1 = train['Types'].tolist()\n",
    "test1 = test['Reference'].tolist()\n",
    "labelsTest1 = test['Types'].tolist()\n",
    "# train\n",
    "pipe.fit(train1, labelsTrain1)\n",
    "# test\n",
    "# print(test1)\n",
    "preds = pipe.predict(test1)\n",
    "print(\"accuracy:\", accuracy_score(labelsTest1, preds))\n",
    "print(\"Top 10 features used to predict: \")\n",
    "\n",
    "printNMostInformative(vectorizer, clf, 10)\n",
    "pipe = Pipeline([('cleanText', CleanTextTransformer()), ('vectorizer', vectorizer)])\n",
    "transform = pipe.fit_transform(train1, labelsTrain1)\n",
    "vocab = vectorizer.get_feature_names()\n",
    "for i in range(len(train1)):\n",
    "    s = \"\"\n",
    "    indexIntoVocab = transform.indices[transform.indptr[i]:transform.indptr[i+1]]\n",
    "    numOccurences = transform.data[transform.indptr[i]:transform.indptr[i+1]]\n",
    "    for idx, num in zip(indexIntoVocab, numOccurences):\n",
    "        s += str((vocab[idx], num))"
   ]
  },
  {
   "cell_type": "code",
   "execution_count": 80,
   "metadata": {},
   "outputs": [
    {
     "name": "stdout",
     "output_type": "stream",
     "text": [
      "                     precision    recall  f1-score   support\n",
      "\n",
      "    TRADITIONAL REF       0.75      0.93      0.83        76\n",
      "NON TRADITIONAL REF       0.94      0.75      0.83        96\n",
      "\n",
      "           accuracy                           0.83       172\n",
      "          macro avg       0.84      0.84      0.83       172\n",
      "       weighted avg       0.85      0.83      0.83       172\n",
      "\n"
     ]
    }
   ],
   "source": [
    "from sklearn import metrics\n",
    "print(metrics.classification_report(labelsTest1, preds, \n",
    "                                    target_names=df['Types'].unique()))"
   ]
  },
  {
   "cell_type": "code",
   "execution_count": 120,
   "metadata": {},
   "outputs": [],
   "source": []
  },
  {
   "cell_type": "code",
   "execution_count": null,
   "metadata": {},
   "outputs": [],
   "source": []
  },
  {
   "cell_type": "code",
   "execution_count": null,
   "metadata": {},
   "outputs": [],
   "source": []
  }
 ],
 "metadata": {
  "kernelspec": {
   "display_name": "Python 3.7.7 64-bit",
   "language": "python",
   "name": "python37764bita6c99014a5af4e34a90c673f1e7a967f"
  },
  "language_info": {
   "codemirror_mode": {
    "name": "ipython",
    "version": 3
   },
   "file_extension": ".py",
   "mimetype": "text/x-python",
   "name": "python",
   "nbconvert_exporter": "python",
   "pygments_lexer": "ipython3",
   "version": "3.7.7"
  }
 },
 "nbformat": 4,
 "nbformat_minor": 4
}
